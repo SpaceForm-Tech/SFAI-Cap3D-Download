{
 "cells": [
  {
   "cell_type": "markdown",
   "metadata": {},
   "source": [
    "# EDA - Cap 3D Dataset"
   ]
  },
  {
   "cell_type": "markdown",
   "metadata": {},
   "source": [
    "## Load Captions"
   ]
  },
  {
   "cell_type": "code",
   "execution_count": 1,
   "metadata": {},
   "outputs": [
    {
     "data": {
      "text/html": [
       "<div>\n",
       "<style scoped>\n",
       "    .dataframe tbody tr th:only-of-type {\n",
       "        vertical-align: middle;\n",
       "    }\n",
       "\n",
       "    .dataframe tbody tr th {\n",
       "        vertical-align: top;\n",
       "    }\n",
       "\n",
       "    .dataframe thead th {\n",
       "        text-align: right;\n",
       "    }\n",
       "</style>\n",
       "<table border=\"1\" class=\"dataframe\">\n",
       "  <thead>\n",
       "    <tr style=\"text-align: right;\">\n",
       "      <th></th>\n",
       "      <th>0</th>\n",
       "      <th>1</th>\n",
       "    </tr>\n",
       "  </thead>\n",
       "  <tbody>\n",
       "    <tr>\n",
       "      <th>0</th>\n",
       "      <td>ed51a51909ee46c780db3a85e821feb2</td>\n",
       "      <td>A green and white rifle.</td>\n",
       "    </tr>\n",
       "    <tr>\n",
       "      <th>1</th>\n",
       "      <td>9110b606f6c547b2980fcb3c8c4b6a1c</td>\n",
       "      <td>a small building with a roof, accompanied by b...</td>\n",
       "    </tr>\n",
       "    <tr>\n",
       "      <th>2</th>\n",
       "      <td>80d9caaa1fa04502af666135196456e1</td>\n",
       "      <td>a pair of purple and black swords with white h...</td>\n",
       "    </tr>\n",
       "    <tr>\n",
       "      <th>3</th>\n",
       "      <td>28d43a218cd8466a8c1f82b29b71e314</td>\n",
       "      <td>a small house, island, road with trash, trash ...</td>\n",
       "    </tr>\n",
       "    <tr>\n",
       "      <th>4</th>\n",
       "      <td>75582285fab442a2ba31733f9c8fae66</td>\n",
       "      <td>a small, grassy hill.</td>\n",
       "    </tr>\n",
       "    <tr>\n",
       "      <th>...</th>\n",
       "      <td>...</td>\n",
       "      <td>...</td>\n",
       "    </tr>\n",
       "    <tr>\n",
       "      <th>661572</th>\n",
       "      <td>ccee95eac2fb48ec92d357e3d853f2bd</td>\n",
       "      <td>a tall, white tower featuring a door, stairs, ...</td>\n",
       "    </tr>\n",
       "    <tr>\n",
       "      <th>661573</th>\n",
       "      <td>f02f574e85e94b879c1b54f4d3aa4b35</td>\n",
       "      <td>A yellow disc with a hole in the middle.</td>\n",
       "    </tr>\n",
       "    <tr>\n",
       "      <th>661574</th>\n",
       "      <td>f1d3d36114d34d29a18a8ed1516bf355</td>\n",
       "      <td>pink and white ball with a face and spikes.</td>\n",
       "    </tr>\n",
       "    <tr>\n",
       "      <th>661575</th>\n",
       "      <td>32d1927d6c0e4d9b9c445fc5988ec6c6</td>\n",
       "      <td>a white and pink bedroom and bathroom, featuri...</td>\n",
       "    </tr>\n",
       "    <tr>\n",
       "      <th>661576</th>\n",
       "      <td>2fa12ba0af5442c9af8f9bead1a7d020</td>\n",
       "      <td>Monstera plant with green leaves.</td>\n",
       "    </tr>\n",
       "  </tbody>\n",
       "</table>\n",
       "<p>661577 rows × 2 columns</p>\n",
       "</div>"
      ],
      "text/plain": [
       "                                       0  \\\n",
       "0       ed51a51909ee46c780db3a85e821feb2   \n",
       "1       9110b606f6c547b2980fcb3c8c4b6a1c   \n",
       "2       80d9caaa1fa04502af666135196456e1   \n",
       "3       28d43a218cd8466a8c1f82b29b71e314   \n",
       "4       75582285fab442a2ba31733f9c8fae66   \n",
       "...                                  ...   \n",
       "661572  ccee95eac2fb48ec92d357e3d853f2bd   \n",
       "661573  f02f574e85e94b879c1b54f4d3aa4b35   \n",
       "661574  f1d3d36114d34d29a18a8ed1516bf355   \n",
       "661575  32d1927d6c0e4d9b9c445fc5988ec6c6   \n",
       "661576  2fa12ba0af5442c9af8f9bead1a7d020   \n",
       "\n",
       "                                                        1  \n",
       "0                                A green and white rifle.  \n",
       "1       a small building with a roof, accompanied by b...  \n",
       "2       a pair of purple and black swords with white h...  \n",
       "3       a small house, island, road with trash, trash ...  \n",
       "4                                   a small, grassy hill.  \n",
       "...                                                   ...  \n",
       "661572  a tall, white tower featuring a door, stairs, ...  \n",
       "661573           A yellow disc with a hole in the middle.  \n",
       "661574        pink and white ball with a face and spikes.  \n",
       "661575  a white and pink bedroom and bathroom, featuri...  \n",
       "661576                  Monstera plant with green leaves.  \n",
       "\n",
       "[661577 rows x 2 columns]"
      ]
     },
     "execution_count": 1,
     "metadata": {},
     "output_type": "execute_result"
    }
   ],
   "source": [
    "import pandas as pd\n",
    "\n",
    "captions = pd.read_csv(\"Cap3D_automated_Objaverse_no3Dword.csv\", header=None)\n",
    "captions"
   ]
  },
  {
   "cell_type": "code",
   "execution_count": 3,
   "metadata": {},
   "outputs": [
    {
     "data": {
      "text/plain": [
       "'a pair of purple and black swords with white handles.'"
      ]
     },
     "execution_count": 3,
     "metadata": {},
     "output_type": "execute_result"
    }
   ],
   "source": [
    "# Obtain the caption for specific UID\n",
    "uid = \"80d9caaa1fa04502af666135196456e1\"\n",
    "caption = captions[captions[0] == uid][1].values[0]\n",
    "caption"
   ]
  },
  {
   "cell_type": "code",
   "execution_count": null,
   "metadata": {},
   "outputs": [],
   "source": [
    "# load point clouds (unzip https://huggingface.co/datasets/tiange/Cap3D/tree/main/PointCloud_pt_zips)\n",
    "import torch\n",
    "\n",
    "pts = torch.load(\"Cap3D_pcs_pt/80d9caaa1fa04502af666135196456e1.pt\")\n",
    "\n",
    "## pts.shape == torch.Size([6, 16384])"
   ]
  }
 ],
 "metadata": {
  "kernelspec": {
   "display_name": "3d",
   "language": "python",
   "name": "python3"
  },
  "language_info": {
   "codemirror_mode": {
    "name": "ipython",
    "version": 3
   },
   "file_extension": ".py",
   "mimetype": "text/x-python",
   "name": "python",
   "nbconvert_exporter": "python",
   "pygments_lexer": "ipython3",
   "version": "3.9.18"
  }
 },
 "nbformat": 4,
 "nbformat_minor": 2
}
