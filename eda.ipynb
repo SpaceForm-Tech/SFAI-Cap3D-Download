{
 "cells": [
  {
   "cell_type": "markdown",
   "metadata": {},
   "source": [
    "# EDA - Cap 3D Dataset"
   ]
  },
  {
   "cell_type": "markdown",
   "metadata": {},
   "source": [
    "## Load Captions"
   ]
  },
  {
   "cell_type": "code",
   "execution_count": 1,
   "metadata": {},
   "outputs": [
    {
     "data": {
      "text/html": [
       "<div>\n",
       "<style scoped>\n",
       "    .dataframe tbody tr th:only-of-type {\n",
       "        vertical-align: middle;\n",
       "    }\n",
       "\n",
       "    .dataframe tbody tr th {\n",
       "        vertical-align: top;\n",
       "    }\n",
       "\n",
       "    .dataframe thead th {\n",
       "        text-align: right;\n",
       "    }\n",
       "</style>\n",
       "<table border=\"1\" class=\"dataframe\">\n",
       "  <thead>\n",
       "    <tr style=\"text-align: right;\">\n",
       "      <th></th>\n",
       "      <th>id</th>\n",
       "      <th>desc</th>\n",
       "    </tr>\n",
       "  </thead>\n",
       "  <tbody>\n",
       "    <tr>\n",
       "      <th>0</th>\n",
       "      <td>ed51a51909ee46c780db3a85e821feb2</td>\n",
       "      <td>A green and white rifle.</td>\n",
       "    </tr>\n",
       "    <tr>\n",
       "      <th>1</th>\n",
       "      <td>9110b606f6c547b2980fcb3c8c4b6a1c</td>\n",
       "      <td>A 3D rendering of a small building with a roof...</td>\n",
       "    </tr>\n",
       "    <tr>\n",
       "      <th>2</th>\n",
       "      <td>80d9caaa1fa04502af666135196456e1</td>\n",
       "      <td>A 3D model of a pair of purple and black sword...</td>\n",
       "    </tr>\n",
       "    <tr>\n",
       "      <th>3</th>\n",
       "      <td>28d43a218cd8466a8c1f82b29b71e314</td>\n",
       "      <td>A 3D model featuring a small house, island, ro...</td>\n",
       "    </tr>\n",
       "    <tr>\n",
       "      <th>4</th>\n",
       "      <td>75582285fab442a2ba31733f9c8fae66</td>\n",
       "      <td>A 3D model of a small, grassy hill.</td>\n",
       "    </tr>\n",
       "    <tr>\n",
       "      <th>5</th>\n",
       "      <td>53d0b31aa7f84bc4b1733224963d0114</td>\n",
       "      <td>3D rendering of a white sofa with wooden legs ...</td>\n",
       "    </tr>\n",
       "    <tr>\n",
       "      <th>6</th>\n",
       "      <td>25f25e35aada40e49194657fd51c1199</td>\n",
       "      <td>3D model of a wooden fence with posts and gate...</td>\n",
       "    </tr>\n",
       "    <tr>\n",
       "      <th>7</th>\n",
       "      <td>d7340a5b05b6460facbd90aaafb7f1f1</td>\n",
       "      <td>A 3D model of a rainbow-colored mountain.</td>\n",
       "    </tr>\n",
       "    <tr>\n",
       "      <th>8</th>\n",
       "      <td>bb3552fe9b074acf8ea531c2e9e25fe7</td>\n",
       "      <td>A 3D object featuring a house with a door, a t...</td>\n",
       "    </tr>\n",
       "    <tr>\n",
       "      <th>9</th>\n",
       "      <td>3764a2442eca43c7bbe64d8297d84905</td>\n",
       "      <td>A paper clock, brown origami bird, and thin me...</td>\n",
       "    </tr>\n",
       "  </tbody>\n",
       "</table>\n",
       "</div>"
      ],
      "text/plain": [
       "                                 id  \\\n",
       "0  ed51a51909ee46c780db3a85e821feb2   \n",
       "1  9110b606f6c547b2980fcb3c8c4b6a1c   \n",
       "2  80d9caaa1fa04502af666135196456e1   \n",
       "3  28d43a218cd8466a8c1f82b29b71e314   \n",
       "4  75582285fab442a2ba31733f9c8fae66   \n",
       "5  53d0b31aa7f84bc4b1733224963d0114   \n",
       "6  25f25e35aada40e49194657fd51c1199   \n",
       "7  d7340a5b05b6460facbd90aaafb7f1f1   \n",
       "8  bb3552fe9b074acf8ea531c2e9e25fe7   \n",
       "9  3764a2442eca43c7bbe64d8297d84905   \n",
       "\n",
       "                                                desc  \n",
       "0                           A green and white rifle.  \n",
       "1  A 3D rendering of a small building with a roof...  \n",
       "2  A 3D model of a pair of purple and black sword...  \n",
       "3  A 3D model featuring a small house, island, ro...  \n",
       "4                A 3D model of a small, grassy hill.  \n",
       "5  3D rendering of a white sofa with wooden legs ...  \n",
       "6  3D model of a wooden fence with posts and gate...  \n",
       "7          A 3D model of a rainbow-colored mountain.  \n",
       "8  A 3D object featuring a house with a door, a t...  \n",
       "9  A paper clock, brown origami bird, and thin me...  "
      ]
     },
     "execution_count": 1,
     "metadata": {},
     "output_type": "execute_result"
    }
   ],
   "source": [
    "import pandas as pd\n",
    "\n",
    "df = pd.read_csv(\"Cap3D_automated_Objaverse.csv\", header=None, names=[\"id\", \"desc\"])\n",
    "df.head(10)"
   ]
  },
  {
   "cell_type": "code",
   "execution_count": 5,
   "metadata": {},
   "outputs": [
    {
     "data": {
      "text/plain": [
       "'A 3D model of a pair of purple and black swords with white handles.'"
      ]
     },
     "execution_count": 5,
     "metadata": {},
     "output_type": "execute_result"
    }
   ],
   "source": [
    "# Obtain the caption for specific UID\n",
    "uid = \"80d9caaa1fa04502af666135196456e1\"\n",
    "caption = df[df[\"id\"] == uid][\"desc\"].values[0]\n",
    "caption"
   ]
  },
  {
   "cell_type": "code",
   "execution_count": null,
   "metadata": {},
   "outputs": [],
   "source": [
    "# load point clouds (unzip https://huggingface.co/datasets/tiange/Cap3D/tree/main/PointCloud_pt_zips)\n",
    "import torch\n",
    "\n",
    "pts = torch.load(\"Cap3D_pcs_pt/80d9caaa1fa04502af666135196456e1.pt\")\n",
    "\n",
    "## pts.shape == torch.Size([6, 16384])"
   ]
  }
 ],
 "metadata": {
  "kernelspec": {
   "display_name": "3d",
   "language": "python",
   "name": "python3"
  },
  "language_info": {
   "codemirror_mode": {
    "name": "ipython",
    "version": 3
   },
   "file_extension": ".py",
   "mimetype": "text/x-python",
   "name": "python",
   "nbconvert_exporter": "python",
   "pygments_lexer": "ipython3",
   "version": "3.9.18"
  }
 },
 "nbformat": 4,
 "nbformat_minor": 2
}
