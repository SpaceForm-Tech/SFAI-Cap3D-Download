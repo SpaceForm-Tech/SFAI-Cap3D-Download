{
 "cells": [
  {
   "cell_type": "code",
   "execution_count": 1,
   "metadata": {},
   "outputs": [],
   "source": [
    "import os\n",
    "import time\n",
    "\n",
    "import requests\n",
    "from tqdm import tqdm"
   ]
  },
  {
   "cell_type": "code",
   "execution_count": 10,
   "metadata": {},
   "outputs": [],
   "source": [
    "def download_file_with_retry(\n",
    "    url, destination, chunk_size=1024, max_retries=15, retry_delay=60, timeout=60\n",
    "):\n",
    "    retry_count = 0\n",
    "    resume_header = {}\n",
    "    if os.path.exists(destination):\n",
    "        resume_header[\"Range\"] = \"bytes=%d-\" % os.path.getsize(destination)\n",
    "\n",
    "    while retry_count < max_retries:\n",
    "        try:\n",
    "            with requests.get(\n",
    "                url, stream=True, headers=resume_header, timeout=timeout\n",
    "            ) as response:\n",
    "                response.raise_for_status()\n",
    "\n",
    "                file_size = int(response.headers.get(\"content-length\", 0))\n",
    "\n",
    "                with open(destination, \"ab\") as file, tqdm(\n",
    "                    total=file_size,\n",
    "                    unit=\"B\",\n",
    "                    unit_scale=True,\n",
    "                    unit_divisor=1024,\n",
    "                    desc=os.path.basename(destination),\n",
    "                ) as progress_bar:\n",
    "                    for chunk in response.iter_content(chunk_size=chunk_size):\n",
    "                        if chunk:\n",
    "                            file.write(chunk)\n",
    "                            progress_bar.update(len(chunk))\n",
    "\n",
    "            print(\"Download complete!\")\n",
    "\n",
    "            return True\n",
    "\n",
    "        except requests.exceptions.RequestException as e:\n",
    "            print(f\"Error occurred: {e}\")\n",
    "\n",
    "            retry_count += 1\n",
    "\n",
    "            if retry_count < max_retries:\n",
    "                print(f\"Retrying download in {retry_delay} seconds...\")\n",
    "                time.sleep(retry_delay)\n",
    "\n",
    "    print(\"Max retries reached. Download failed.\")\n",
    "\n",
    "    return False"
   ]
  },
  {
   "cell_type": "code",
   "execution_count": 11,
   "metadata": {},
   "outputs": [
    {
     "name": "stdout",
     "output_type": "stream",
     "text": [
      "Error occurred: HTTPSConnectionPool(host='huggingface.co', port=443): Max retries exceeded with url: /datasets/tiange/Cap3D/resolve/main/PointCloud_pt_zips/compressed_pcs_pt_06.zip?download=true (Caused by NameResolutionError(\"<urllib3.connection.HTTPSConnection object at 0x728ef9913c70>: Failed to resolve 'huggingface.co' ([Errno -3] Temporary failure in name resolution)\"))\n",
      "Retrying download in 60 seconds...\n"
     ]
    },
    {
     "name": "stderr",
     "output_type": "stream",
     "text": [
      "compressed_pcs_pt_06.zip:   0%|          | 13.8M/3.97G [01:15<6:07:10, 193kB/s] \n"
     ]
    },
    {
     "name": "stdout",
     "output_type": "stream",
     "text": [
      "Error occurred: HTTPSConnectionPool(host='cdn-lfs.huggingface.co', port=443): Read timed out.\n",
      "Retrying download in 60 seconds...\n"
     ]
    },
    {
     "name": "stderr",
     "output_type": "stream",
     "text": [
      "compressed_pcs_pt_06.zip: 100%|██████████| 3.97G/3.97G [1:54:53<00:00, 619kB/s]   "
     ]
    },
    {
     "name": "stdout",
     "output_type": "stream",
     "text": [
      "Download complete!\n"
     ]
    },
    {
     "name": "stderr",
     "output_type": "stream",
     "text": [
      "\n"
     ]
    },
    {
     "data": {
      "text/plain": [
       "True"
      ]
     },
     "execution_count": 11,
     "metadata": {},
     "output_type": "execute_result"
    }
   ],
   "source": [
    "# Example usage\n",
    "file = \"PointCloud_pt_zips/compressed_pcs_pt_06.zip\"\n",
    "url = f\"https://huggingface.co/datasets/tiange/Cap3D/resolve/main/{file}?download=true\"\n",
    "\n",
    "destination = file\n",
    "\n",
    "download_file_with_retry(url, destination, chunk_size=8192)"
   ]
  },
  {
   "cell_type": "code",
   "execution_count": 3,
   "metadata": {},
   "outputs": [],
   "source": [
    "import requests\n",
    "\n",
    "file = \"compressed_imgs_ABO.zip\"\n",
    "url = f\"https://huggingface.co/datasets/tiange/Cap3D/resolve/main/misc/{file}?download=true\"\n",
    "\n",
    "destination = file\n",
    "\n",
    "\n",
    "def download_file(url, local_filename, stream=True, chunk_size=8192):\n",
    "    # NOTE the stream=True parameter below\n",
    "    with requests.get(url, stream=stream) as r:\n",
    "\n",
    "        r.raise_for_status()\n",
    "\n",
    "        with open(local_filename, \"wb\") as f:\n",
    "            for chunk in r.iter_content(chunk_size=chunk_size):\n",
    "                # If you have chunk encoded response uncomment if\n",
    "                # and set chunk_size parameter to None.\n",
    "                # if chunk:\n",
    "                f.write(chunk)\n",
    "\n",
    "    return local_filename"
   ]
  },
  {
   "cell_type": "code",
   "execution_count": 4,
   "metadata": {},
   "outputs": [
    {
     "data": {
      "text/plain": [
       "'compressed_imgs_ABO.zip'"
      ]
     },
     "execution_count": 4,
     "metadata": {},
     "output_type": "execute_result"
    }
   ],
   "source": [
    "download_file(url=url, local_filename=destination)"
   ]
  },
  {
   "cell_type": "code",
   "execution_count": 53,
   "metadata": {},
   "outputs": [],
   "source": [
    "download = True\n",
    "download_url = f\"https://huggingface.co/datasets/tiange/Cap3D/{'resolve' if download else 'raw'}/main/misc/compressed_imgs_ABO.zip{'?download=true' if download else ''}\"\n",
    "\n",
    "download = False\n",
    "pointer_url = f\"https://huggingface.co/datasets/tiange/Cap3D/{'resolve' if download else 'raw'}/main/misc/compressed_imgs_ABO.zip{'?download=true' if download else ''}\""
   ]
  },
  {
   "cell_type": "code",
   "execution_count": 76,
   "metadata": {},
   "outputs": [
    {
     "data": {
      "text/plain": [
       "'https://huggingface.co/datasets/tiange/Cap3D/raw/main/misc/compressed_imgs_ABO.zip'"
      ]
     },
     "execution_count": 76,
     "metadata": {},
     "output_type": "execute_result"
    }
   ],
   "source": [
    "url.replace(\"resolve\", \"raw\").split(\"?\")[0]"
   ]
  },
  {
   "cell_type": "code",
   "execution_count": 6,
   "metadata": {},
   "outputs": [
    {
     "data": {
      "text/plain": [
       "<Response [200]>"
      ]
     },
     "execution_count": 6,
     "metadata": {},
     "output_type": "execute_result"
    }
   ],
   "source": [
    "download = True\n",
    "d = requests.get(download_url)\n",
    "d"
   ]
  },
  {
   "cell_type": "code",
   "execution_count": 56,
   "metadata": {},
   "outputs": [
    {
     "data": {
      "text/plain": [
       "['__attrs__',\n",
       " '__bool__',\n",
       " '__class__',\n",
       " '__delattr__',\n",
       " '__dict__',\n",
       " '__dir__',\n",
       " '__doc__',\n",
       " '__enter__',\n",
       " '__eq__',\n",
       " '__exit__',\n",
       " '__format__',\n",
       " '__ge__',\n",
       " '__getattribute__',\n",
       " '__getstate__',\n",
       " '__gt__',\n",
       " '__hash__',\n",
       " '__init__',\n",
       " '__init_subclass__',\n",
       " '__iter__',\n",
       " '__le__',\n",
       " '__lt__',\n",
       " '__module__',\n",
       " '__ne__',\n",
       " '__new__',\n",
       " '__nonzero__',\n",
       " '__reduce__',\n",
       " '__reduce_ex__',\n",
       " '__repr__',\n",
       " '__setattr__',\n",
       " '__setstate__',\n",
       " '__sizeof__',\n",
       " '__str__',\n",
       " '__subclasshook__',\n",
       " '__weakref__',\n",
       " '_content',\n",
       " '_content_consumed',\n",
       " '_next',\n",
       " 'apparent_encoding',\n",
       " 'close',\n",
       " 'connection',\n",
       " 'content',\n",
       " 'cookies',\n",
       " 'elapsed',\n",
       " 'encoding',\n",
       " 'headers',\n",
       " 'history',\n",
       " 'is_permanent_redirect',\n",
       " 'is_redirect',\n",
       " 'iter_content',\n",
       " 'iter_lines',\n",
       " 'json',\n",
       " 'links',\n",
       " 'next',\n",
       " 'ok',\n",
       " 'raise_for_status',\n",
       " 'raw',\n",
       " 'reason',\n",
       " 'request',\n",
       " 'status_code',\n",
       " 'text',\n",
       " 'url']"
      ]
     },
     "execution_count": 56,
     "metadata": {},
     "output_type": "execute_result"
    }
   ],
   "source": [
    "dir(d)"
   ]
  },
  {
   "cell_type": "code",
   "execution_count": 59,
   "metadata": {},
   "outputs": [
    {
     "data": {
      "text/plain": [
       "(200, bytes, b'PK\\x03\\x04\\x14\\x00\\x00\\x00\\x08\\x00')"
      ]
     },
     "execution_count": 59,
     "metadata": {},
     "output_type": "execute_result"
    }
   ],
   "source": [
    "d.status_code, type(d.content), d.content[:10]"
   ]
  },
  {
   "cell_type": "code",
   "execution_count": 13,
   "metadata": {},
   "outputs": [],
   "source": [
    "import hashlib\n",
    "\n",
    "\n",
    "def sha256_hash(data: bytes):\n",
    "    \"\"\"\n",
    "    Compute the SHA-256 hash of the given data.\n",
    "\n",
    "    Args:\n",
    "        data (bytes): The input data to be hashed.\n",
    "\n",
    "    Returns:\n",
    "        str: The hexadecimal representation of the SHA-256 hash.\n",
    "    \"\"\"\n",
    "    sha256 = hashlib.sha256()\n",
    "    sha256.update(data)\n",
    "    return sha256.hexdigest()"
   ]
  },
  {
   "cell_type": "code",
   "execution_count": 60,
   "metadata": {},
   "outputs": [
    {
     "data": {
      "text/plain": [
       "'a7e8a8c4d9b7e4c3044a365915cfc0c50725e3ac94b137788addd91b7c34ad7f'"
      ]
     },
     "execution_count": 60,
     "metadata": {},
     "output_type": "execute_result"
    }
   ],
   "source": [
    "sha256_hash(d.content)"
   ]
  },
  {
   "cell_type": "code",
   "execution_count": 61,
   "metadata": {},
   "outputs": [
    {
     "data": {
      "text/plain": [
       "<Response [200]>"
      ]
     },
     "execution_count": 61,
     "metadata": {},
     "output_type": "execute_result"
    }
   ],
   "source": [
    "p = requests.get(pointer_url)\n",
    "p"
   ]
  },
  {
   "cell_type": "code",
   "execution_count": 62,
   "metadata": {},
   "outputs": [
    {
     "data": {
      "text/plain": [
       "(200, bytes, b'version ht')"
      ]
     },
     "execution_count": 62,
     "metadata": {},
     "output_type": "execute_result"
    }
   ],
   "source": [
    "p.status_code, type(p.content), p.content[:10]"
   ]
  },
  {
   "cell_type": "code",
   "execution_count": 64,
   "metadata": {},
   "outputs": [
    {
     "name": "stdout",
     "output_type": "stream",
     "text": [
      "version https://git-lfs.github.com/spec/v1\n",
      "oid sha256:a7e8a8c4d9b7e4c3044a365915cfc0c50725e3ac94b137788addd91b7c34ad7f\n",
      "size 1228562479\n",
      "\n"
     ]
    }
   ],
   "source": [
    "print(p.content.decode(\"utf-8\"))"
   ]
  },
  {
   "cell_type": "code",
   "execution_count": 65,
   "metadata": {},
   "outputs": [],
   "source": [
    "from typing import List\n",
    "\n",
    "\n",
    "def extract_sha256_from_pointer_file(bytes_data: bytes) -> str or None:\n",
    "    \"\"\"\n",
    "    Extract the SHA256 hash from a bytes string.\n",
    "\n",
    "    Args:\n",
    "        bytes_data (bytes): The bytes string containing the data.\n",
    "\n",
    "    Returns:\n",
    "        str or None: The extracted SHA256 hash if found, otherwise None.\n",
    "    \"\"\"\n",
    "    # Decode bytes to string\n",
    "    data_str: str = bytes_data.decode(\"utf-8\")\n",
    "\n",
    "    # Split the string into lines\n",
    "    lines: List[str] = data_str.split(\"\\n\")\n",
    "\n",
    "    # Find the line containing the SHA256 hash\n",
    "    sha256_line: str = next(\n",
    "        (line for line in lines if line.startswith(\"oid sha256:\")), None\n",
    "    )\n",
    "\n",
    "    # Extract the SHA256 hash value\n",
    "    if sha256_line:\n",
    "        sha256_hash: str = sha256_line.split(\"sha256:\")[1]\n",
    "        return sha256_hash\n",
    "    else:\n",
    "        return None"
   ]
  },
  {
   "cell_type": "code",
   "execution_count": 66,
   "metadata": {},
   "outputs": [
    {
     "data": {
      "text/plain": [
       "'a7e8a8c4d9b7e4c3044a365915cfc0c50725e3ac94b137788addd91b7c34ad7f'"
      ]
     },
     "execution_count": 66,
     "metadata": {},
     "output_type": "execute_result"
    }
   ],
   "source": [
    "extract_sha256_from_pointer_file(bytes_data=p.content)"
   ]
  },
  {
   "cell_type": "code",
   "execution_count": 67,
   "metadata": {},
   "outputs": [],
   "source": [
    "def calculate_file_hash(file_path: str) -> str:\n",
    "    \"\"\"\n",
    "    Calculate the SHA256 hash of a file.\n",
    "\n",
    "    Args:\n",
    "        file_path (str): The path to the file.\n",
    "\n",
    "    Returns:\n",
    "        str: The hexadecimal representation of the SHA256 hash.\n",
    "    \"\"\"\n",
    "    # Read the file's bytes\n",
    "    with open(file_path, \"rb\") as file:\n",
    "        file_bytes: bytes = file.read()\n",
    "\n",
    "    # Calculate the SHA256 hash of the file's bytes\n",
    "    file_hash: str = sha256_hash(file_bytes)\n",
    "\n",
    "    return file_hash"
   ]
  },
  {
   "cell_type": "code",
   "execution_count": 71,
   "metadata": {},
   "outputs": [
    {
     "data": {
      "text/plain": [
       "'a7e8a8c4d9b7e4c3044a365915cfc0c50725e3ac94b137788addd91b7c34ad7f'"
      ]
     },
     "execution_count": 71,
     "metadata": {},
     "output_type": "execute_result"
    }
   ],
   "source": [
    "file_path = \"misc/compressed_imgs_ABO.zip\"\n",
    "calculate_file_hash(file_path=file_path)"
   ]
  },
  {
   "cell_type": "code",
   "execution_count": 72,
   "metadata": {},
   "outputs": [],
   "source": [
    "def perform_checksum(file_path: str, pointer_file_url: str) -> bool:\n",
    "    \"\"\"TODO: Add docstring\"\"\"\n",
    "    file_hash: str = calculate_file_hash(file_path=file_path)\n",
    "\n",
    "    response = requests.get(pointer_file_url)\n",
    "    response.raise_for_status()\n",
    "\n",
    "    pointer_file: bytes = response.content\n",
    "\n",
    "    expected_hash: str = extract_sha256_from_pointer_file(bytes_data=pointer_file)\n",
    "\n",
    "    return file_hash == expected_hash"
   ]
  },
  {
   "cell_type": "code",
   "execution_count": 73,
   "metadata": {},
   "outputs": [
    {
     "data": {
      "text/plain": [
       "True"
      ]
     },
     "execution_count": 73,
     "metadata": {},
     "output_type": "execute_result"
    }
   ],
   "source": [
    "perform_checksum(file_path=file_path, pointer_file_url=pointer_url)"
   ]
  },
  {
   "cell_type": "code",
   "execution_count": 20,
   "metadata": {},
   "outputs": [
    {
     "data": {
      "text/plain": [
       "96000000"
      ]
     },
     "execution_count": 20,
     "metadata": {},
     "output_type": "execute_result"
    }
   ],
   "source": [
    "12000 * 8000"
   ]
  },
  {
   "cell_type": "code",
   "execution_count": 19,
   "metadata": {},
   "outputs": [
    {
     "name": "stderr",
     "output_type": "stream",
     "text": [
      "/home/yunusskeete/miniconda3/envs/3d/lib/python3.9/site-packages/PIL/Image.py:3186: DecompressionBombWarning: Image size (96000000 pixels) exceeds limit of 89478485 pixels, could be decompression bomb DOS attack.\n",
      "  warnings.warn(\n"
     ]
    },
    {
     "data": {
      "image/jpeg": "[encoded data removed]",
      "image/png": "[encoded data removed]",
      "text/plain": [
       "<PIL.JpegImagePlugin.JpegImageFile image mode=RGB size=667x1000>"
      ]
     },
     "metadata": {},
     "output_type": "display_data"
    }
   ],
   "source": [
    "from PIL import Image\n",
    "from IPython.display import display\n",
    "\n",
    "image_path = \"misc/ABO_imgs_6views/B00BBDF500\"\n",
    "image = Image.open(image_path)\n",
    "\n",
    "# Resize the image while maintaining aspect ratio\n",
    "max_width = 1000  # Set the maximum width\n",
    "max_height = 1000  # Set the maximum height\n",
    "image.thumbnail((max_width, max_height), Image.LANCZOS)\n",
    "\n",
    "display(image)"
   ]
  }
 ],
 "metadata": {
  "kernelspec": {
   "display_name": "3d",
   "language": "python",
   "name": "python3"
  },
  "language_info": {
   "codemirror_mode": {
    "name": "ipython",
    "version": 3
   },
   "file_extension": ".py",
   "mimetype": "text/x-python",
   "name": "python",
   "nbconvert_exporter": "python",
   "pygments_lexer": "ipython3",
   "version": "3.9.18"
  }
 },
 "nbformat": 4,
 "nbformat_minor": 2
}
