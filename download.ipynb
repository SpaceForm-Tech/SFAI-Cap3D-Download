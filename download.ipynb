{
 "cells": [
  {
   "cell_type": "code",
   "execution_count": 1,
   "metadata": {},
   "outputs": [],
   "source": [
    "import os\n",
    "import time\n",
    "\n",
    "import requests\n",
    "from tqdm import tqdm"
   ]
  },
  {
   "cell_type": "code",
   "execution_count": 10,
   "metadata": {},
   "outputs": [],
   "source": [
    "def download_file_with_retry(\n",
    "    url, destination, chunk_size=1024, max_retries=15, retry_delay=60, timeout=60\n",
    "):\n",
    "    retry_count = 0\n",
    "    resume_header = {}\n",
    "    if os.path.exists(destination):\n",
    "        resume_header[\"Range\"] = \"bytes=%d-\" % os.path.getsize(destination)\n",
    "\n",
    "    while retry_count < max_retries:\n",
    "        try:\n",
    "            with requests.get(\n",
    "                url, stream=True, headers=resume_header, timeout=timeout\n",
    "            ) as response:\n",
    "                response.raise_for_status()\n",
    "\n",
    "                file_size = int(response.headers.get(\"content-length\", 0))\n",
    "\n",
    "                with open(destination, \"ab\") as file, tqdm(\n",
    "                    total=file_size,\n",
    "                    unit=\"B\",\n",
    "                    unit_scale=True,\n",
    "                    unit_divisor=1024,\n",
    "                    desc=os.path.basename(destination),\n",
    "                ) as progress_bar:\n",
    "                    for chunk in response.iter_content(chunk_size=chunk_size):\n",
    "                        if chunk:\n",
    "                            file.write(chunk)\n",
    "                            progress_bar.update(len(chunk))\n",
    "\n",
    "            print(\"Download complete!\")\n",
    "\n",
    "            return True\n",
    "\n",
    "        except requests.exceptions.RequestException as e:\n",
    "            print(f\"Error occurred: {e}\")\n",
    "\n",
    "            retry_count += 1\n",
    "\n",
    "            if retry_count < max_retries:\n",
    "                print(f\"Retrying download in {retry_delay} seconds...\")\n",
    "                time.sleep(retry_delay)\n",
    "\n",
    "    print(\"Max retries reached. Download failed.\")\n",
    "\n",
    "    return False"
   ]
  },
  {
   "cell_type": "code",
   "execution_count": 11,
   "metadata": {},
   "outputs": [
    {
     "name": "stdout",
     "output_type": "stream",
     "text": [
      "Error occurred: HTTPSConnectionPool(host='huggingface.co', port=443): Max retries exceeded with url: /datasets/tiange/Cap3D/resolve/main/PointCloud_pt_zips/compressed_pcs_pt_06.zip?download=true (Caused by NameResolutionError(\"<urllib3.connection.HTTPSConnection object at 0x728ef9913c70>: Failed to resolve 'huggingface.co' ([Errno -3] Temporary failure in name resolution)\"))\n",
      "Retrying download in 60 seconds...\n"
     ]
    },
    {
     "name": "stderr",
     "output_type": "stream",
     "text": [
      "compressed_pcs_pt_06.zip:   0%|          | 13.8M/3.97G [01:15<6:07:10, 193kB/s] \n"
     ]
    },
    {
     "name": "stdout",
     "output_type": "stream",
     "text": [
      "Error occurred: HTTPSConnectionPool(host='cdn-lfs.huggingface.co', port=443): Read timed out.\n",
      "Retrying download in 60 seconds...\n"
     ]
    },
    {
     "name": "stderr",
     "output_type": "stream",
     "text": [
      "compressed_pcs_pt_06.zip: 100%|██████████| 3.97G/3.97G [1:54:53<00:00, 619kB/s]   "
     ]
    },
    {
     "name": "stdout",
     "output_type": "stream",
     "text": [
      "Download complete!\n"
     ]
    },
    {
     "name": "stderr",
     "output_type": "stream",
     "text": [
      "\n"
     ]
    },
    {
     "data": {
      "text/plain": [
       "True"
      ]
     },
     "execution_count": 11,
     "metadata": {},
     "output_type": "execute_result"
    }
   ],
   "source": [
    "# Example usage\n",
    "file = \"PointCloud_pt_zips/compressed_pcs_pt_06.zip\"\n",
    "url = f\"https://huggingface.co/datasets/tiange/Cap3D/resolve/main/{file}?download=true\"\n",
    "\n",
    "destination = file\n",
    "\n",
    "download_file_with_retry(url, destination, chunk_size=8192)"
   ]
  },
  {
   "cell_type": "code",
   "execution_count": null,
   "metadata": {},
   "outputs": [],
   "source": []
  }
 ],
 "metadata": {
  "kernelspec": {
   "display_name": "3d",
   "language": "python",
   "name": "python3"
  },
  "language_info": {
   "codemirror_mode": {
    "name": "ipython",
    "version": 3
   },
   "file_extension": ".py",
   "mimetype": "text/x-python",
   "name": "python",
   "nbconvert_exporter": "python",
   "pygments_lexer": "ipython3",
   "version": "3.9.18"
  }
 },
 "nbformat": 4,
 "nbformat_minor": 2
}
