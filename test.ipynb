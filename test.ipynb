{
 "cells": [
  {
   "cell_type": "markdown",
   "metadata": {},
   "source": [
    "# Logging Setup"
   ]
  },
  {
   "cell_type": "code",
   "execution_count": 1,
   "metadata": {},
   "outputs": [],
   "source": [
    "import logging\n",
    "import os\n",
    "\n",
    "from utils.logger_config import setup_logger\n",
    "from utils.create_directory import create_directory"
   ]
  },
  {
   "cell_type": "markdown",
   "metadata": {},
   "source": [
    "Unconfigured logger"
   ]
  },
  {
   "cell_type": "code",
   "execution_count": 2,
   "metadata": {},
   "outputs": [
    {
     "data": {
      "text/plain": [
       "<Logger args/destination (WARNING)>"
      ]
     },
     "execution_count": 2,
     "metadata": {},
     "output_type": "execute_result"
    }
   ],
   "source": [
    "logger = logging.getLogger(\"args/destination\")\n",
    "logger"
   ]
  },
  {
   "cell_type": "code",
   "execution_count": 3,
   "metadata": {},
   "outputs": [
    {
     "data": {
      "text/plain": [
       "[]"
      ]
     },
     "execution_count": 3,
     "metadata": {},
     "output_type": "execute_result"
    }
   ],
   "source": [
    "logger.handlers"
   ]
  },
  {
   "cell_type": "code",
   "execution_count": 4,
   "metadata": {},
   "outputs": [
    {
     "data": {
      "text/plain": [
       "False"
      ]
     },
     "execution_count": 4,
     "metadata": {},
     "output_type": "execute_result"
    }
   ],
   "source": [
    "logger.hasHandlers()"
   ]
  },
  {
   "cell_type": "markdown",
   "metadata": {},
   "source": [
    "Configure logger"
   ]
  },
  {
   "cell_type": "code",
   "execution_count": 5,
   "metadata": {},
   "outputs": [
    {
     "name": "stderr",
     "output_type": "stream",
     "text": [
      "2024-04-02 12:48:00,555 - INFO - Creating directory for file process started with file: '/home/yunusskeete/Documents/data/3D/Cap3D/args/destination'\n",
      "2024-04-02 12:48:00,555 - INFO - Creating directory for file process successfuly completed with file: '/home/yunusskeete/Documents/data/3D/Cap3D/args/destination'\n"
     ]
    },
    {
     "data": {
      "text/plain": [
       "<Logger args/destination (INFO)>"
      ]
     },
     "execution_count": 5,
     "metadata": {},
     "output_type": "execute_result"
    }
   ],
   "source": [
    "logger = setup_logger(\"args/destination\")\n",
    "logger"
   ]
  },
  {
   "cell_type": "code",
   "execution_count": 6,
   "metadata": {},
   "outputs": [
    {
     "data": {
      "text/plain": [
       "[<StreamHandler stderr (NOTSET)>,\n",
       " <FileHandler /home/yunusskeete/Documents/data/3D/Cap3D/args/destination-2024-04-02T12:48:00.log (NOTSET)>]"
      ]
     },
     "execution_count": 6,
     "metadata": {},
     "output_type": "execute_result"
    }
   ],
   "source": [
    "logger.handlers"
   ]
  },
  {
   "cell_type": "code",
   "execution_count": 7,
   "metadata": {},
   "outputs": [
    {
     "data": {
      "text/plain": [
       "logging.StreamHandler"
      ]
     },
     "execution_count": 7,
     "metadata": {},
     "output_type": "execute_result"
    }
   ],
   "source": [
    "type(logger.handlers[0])"
   ]
  },
  {
   "cell_type": "code",
   "execution_count": 8,
   "metadata": {},
   "outputs": [
    {
     "data": {
      "text/plain": [
       "True"
      ]
     },
     "execution_count": 8,
     "metadata": {},
     "output_type": "execute_result"
    }
   ],
   "source": [
    "logger.hasHandlers()"
   ]
  },
  {
   "cell_type": "code",
   "execution_count": 9,
   "metadata": {},
   "outputs": [
    {
     "name": "stderr",
     "output_type": "stream",
     "text": [
      "2024-04-02 12:48:00,578 - INFO - TEST LOG\n"
     ]
    }
   ],
   "source": [
    "logger.info(\"TEST LOG\")"
   ]
  },
  {
   "cell_type": "code",
   "execution_count": 10,
   "metadata": {},
   "outputs": [
    {
     "name": "stderr",
     "output_type": "stream",
     "text": [
      "2024-04-02 12:48:00,582 - INFO - TEST LOG2\n"
     ]
    }
   ],
   "source": [
    "logger.info(\"TEST LOG2\")"
   ]
  },
  {
   "cell_type": "code",
   "execution_count": 11,
   "metadata": {},
   "outputs": [],
   "source": [
    "logger.log(logging.DEBUG, \"Debug TEST LOG\")"
   ]
  },
  {
   "cell_type": "code",
   "execution_count": 12,
   "metadata": {},
   "outputs": [
    {
     "name": "stderr",
     "output_type": "stream",
     "text": [
      "2024-04-02 12:51:11,461 - INFO - Info TEST LOG\n"
     ]
    }
   ],
   "source": [
    "logger.log(logging.INFO, \"Info TEST LOG\")"
   ]
  },
  {
   "cell_type": "markdown",
   "metadata": {},
   "source": [
    "# File Unzip"
   ]
  },
  {
   "cell_type": "code",
   "execution_count": 9,
   "metadata": {},
   "outputs": [],
   "source": [
    "import zipfile\n",
    "import os"
   ]
  },
  {
   "cell_type": "code",
   "execution_count": 10,
   "metadata": {},
   "outputs": [
    {
     "data": {
      "text/plain": [
       "'/home/yunusskeete/Documents/data/3D/Cap3D/RenderedImage_perobj_zips/compressed_imgs_perobj_00.zip'"
      ]
     },
     "execution_count": 10,
     "metadata": {},
     "output_type": "execute_result"
    }
   ],
   "source": [
    "absolute_zip_file_path = os.path.abspath(\n",
    "    \"RenderedImage_perobj_zips/compressed_imgs_perobj_00.zip\"\n",
    ")\n",
    "absolute_zip_file_path"
   ]
  },
  {
   "cell_type": "code",
   "execution_count": 18,
   "metadata": {},
   "outputs": [
    {
     "data": {
      "text/plain": [
       "(list, zipfile.ZipInfo, list, str)"
      ]
     },
     "execution_count": 18,
     "metadata": {},
     "output_type": "execute_result"
    }
   ],
   "source": [
    "with zipfile.ZipFile(absolute_zip_file_path, \"r\") as zip_ref:\n",
    "    file_list = zip_ref.filelist\n",
    "    name_list = zip_ref.namelist()\n",
    "\n",
    "type(file_list), type(file_list[0]), type(name_list), type(name_list[0])"
   ]
  },
  {
   "cell_type": "code",
   "execution_count": 19,
   "metadata": {},
   "outputs": [
    {
     "data": {
      "text/plain": [
       "[<ZipInfo filename='Cap3D_Objaverse_renderimgs/ed51a51909ee46c780db3a85e821feb2.zip' compress_type=deflate filemode='-rw-rw-r--' file_size=596329 compress_size=507816>,\n",
       " <ZipInfo filename='Cap3D_Objaverse_renderimgs/9110b606f6c547b2980fcb3c8c4b6a1c.zip' compress_type=deflate filemode='-rw-rw-r--' file_size=869708 compress_size=779583>,\n",
       " <ZipInfo filename='Cap3D_Objaverse_renderimgs/80d9caaa1fa04502af666135196456e1.zip' compress_type=deflate filemode='-rw-rw-r--' file_size=1180732 compress_size=1057877>,\n",
       " <ZipInfo filename='Cap3D_Objaverse_renderimgs/28d43a218cd8466a8c1f82b29b71e314.zip' compress_type=deflate filemode='-rw-rw-r--' file_size=2223791 compress_size=2131998>,\n",
       " <ZipInfo filename='Cap3D_Objaverse_renderimgs/75582285fab442a2ba31733f9c8fae66.zip' compress_type=deflate filemode='-rw-rw-r--' file_size=3062481 compress_size=2976215>]"
      ]
     },
     "execution_count": 19,
     "metadata": {},
     "output_type": "execute_result"
    }
   ],
   "source": [
    "file_list[:5]"
   ]
  },
  {
   "cell_type": "code",
   "execution_count": 20,
   "metadata": {},
   "outputs": [
    {
     "data": {
      "text/plain": [
       "['Cap3D_Objaverse_renderimgs/ed51a51909ee46c780db3a85e821feb2.zip',\n",
       " 'Cap3D_Objaverse_renderimgs/9110b606f6c547b2980fcb3c8c4b6a1c.zip',\n",
       " 'Cap3D_Objaverse_renderimgs/80d9caaa1fa04502af666135196456e1.zip',\n",
       " 'Cap3D_Objaverse_renderimgs/28d43a218cd8466a8c1f82b29b71e314.zip',\n",
       " 'Cap3D_Objaverse_renderimgs/75582285fab442a2ba31733f9c8fae66.zip']"
      ]
     },
     "execution_count": 20,
     "metadata": {},
     "output_type": "execute_result"
    }
   ],
   "source": [
    "name_list[:5]"
   ]
  },
  {
   "cell_type": "code",
   "execution_count": 21,
   "metadata": {},
   "outputs": [
    {
     "data": {
      "text/plain": [
       "(15000, 15000)"
      ]
     },
     "execution_count": 21,
     "metadata": {},
     "output_type": "execute_result"
    }
   ],
   "source": [
    "len(file_list), len(name_list)"
   ]
  },
  {
   "cell_type": "code",
   "execution_count": null,
   "metadata": {},
   "outputs": [],
   "source": []
  }
 ],
 "metadata": {
  "kernelspec": {
   "display_name": "3d",
   "language": "python",
   "name": "python3"
  },
  "language_info": {
   "codemirror_mode": {
    "name": "ipython",
    "version": 3
   },
   "file_extension": ".py",
   "mimetype": "text/x-python",
   "name": "python",
   "nbconvert_exporter": "python",
   "pygments_lexer": "ipython3",
   "version": "3.9.18"
  }
 },
 "nbformat": 4,
 "nbformat_minor": 2
}
